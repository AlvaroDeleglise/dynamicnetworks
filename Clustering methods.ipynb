{
 "cells": [
  {
   "cell_type": "markdown",
   "metadata": {},
   "source": [
    "Comparing methods for dynamic functional connectivity in brain imaging\n",
    "--\n",
    "This notebook implements clustering methods"
   ]
  },
  {
   "cell_type": "code",
   "execution_count": 8,
   "metadata": {},
   "outputs": [],
   "source": [
    "import numpy as np \n",
    "\n",
    "import os \n",
    "datapath = '/Users/nicolasfarrugia/Documents/recherche/data_mpilmbb/'\n",
    "\n",
    "from matplotlib import pyplot as plt \n",
    "\n",
    "%matplotlib inline\n",
    "\n",
    "from nilearn.plotting import plot_matrix, plot_connectome\n"
   ]
  },
  {
   "cell_type": "markdown",
   "metadata": {},
   "source": [
    "The following cell extracts the baricenters of the regions from the atlas and creates a 3 x 93 arrays of ROI center coordinates "
   ]
  },
  {
   "cell_type": "code",
   "execution_count": 10,
   "metadata": {},
   "outputs": [],
   "source": [
    "# Current ATLAS  \n",
    "roi_maps = 'basc_2mm_scale064.nii.gz'\n",
    "\n",
    "from nilearn.plotting import plot_prob_atlas,plot_roi\n",
    "from nilearn.regions import connected_label_regions\n",
    "\n",
    "labels_maps = connected_label_regions(roi_maps)\n",
    "\n",
    "from nilearn.image import math_img\n",
    "from nilearn.image import iter_img\n",
    "\n",
    "from nilearn.plotting import find_xyz_cut_coords\n",
    "\n",
    "nrois = np.unique(labels_maps.get_data())[-1]\n",
    "\n",
    "roi_maps_4D = []\n",
    "\n",
    "for i in range(1,nrois+1):\n",
    "    curimg = math_img('img == %d' % i ,img=labels_maps)\n",
    "    roi_maps_4D.append(curimg)\n",
    "    \n",
    "\n",
    "coords_connectome = [find_xyz_cut_coords(img) for img in iter_img(roi_maps_4D)]\n",
    "coords_connectome = np.stack(coords_connectome)\n"
   ]
  },
  {
   "cell_type": "markdown",
   "metadata": {},
   "source": [
    "Load FC matrices"
   ]
  },
  {
   "cell_type": "code",
   "execution_count": null,
   "metadata": {
    "collapsed": true
   },
   "outputs": [],
   "source": [
    "all_FC_sl = np.load(os.path.join(datapath,'FC_matrices.npz'))['FCmatrices']"
   ]
  },
  {
   "cell_type": "markdown",
   "metadata": {},
   "source": [
    "Next steps from here \n",
    "--"
   ]
  },
  {
   "cell_type": "markdown",
   "metadata": {},
   "source": [
    "- To perform K-means clustering on the FC matrices, use sklearn MinibatchKMeans() on all_FC_sl. For visualization, average all FC matrices with the same labels\n",
    "- Spectral Clustering or DBScan can be performed by inputting the similarity maps (all_cosine_sim), and use the SpectralClustering or DBScan estimators from sklearn \n",
    "- BCT can be used to investigate time-varying graph theory metrics starting from the all_FC_sl matrices\n",
    "- HMM using hmmlearn https://github.com/hmmlearn/hmmlearn , directly on the time-series (allts)\n",
    "- A notebook visulazing and comparing the outputs of different methods "
   ]
  },
  {
   "cell_type": "markdown",
   "metadata": {},
   "source": [
    "2-step K-means Clustering on FC matrices \n",
    "--"
   ]
  },
  {
   "cell_type": "markdown",
   "metadata": {},
   "source": [
    "The DynamicConnectivityKmeans() object implements the estimation of K-means states directly from the time series. \n",
    "\n",
    "It estimates a first K-means using high variance FC windows, and uses the estimated clusters in a second K-means initialized using the output of the first clustering. "
   ]
  },
  {
   "cell_type": "code",
   "execution_count": null,
   "metadata": {
    "collapsed": true
   },
   "outputs": [],
   "source": [
    "from dfc import DynamicConnectivityKmeans\n",
    "\n",
    "DynamicConnectivityKmeans?"
   ]
  },
  {
   "cell_type": "markdown",
   "metadata": {},
   "source": [
    "WARNING : next cell is extremely computationally expensive "
   ]
  },
  {
   "cell_type": "markdown",
   "metadata": {},
   "source": [
    "dfc_kmeans = DynamicConnectivityKmeans(n_states=3,ws=30,saveas='test_kmeans')\n",
    "\n",
    "dfc_kmeans.fit(allts)"
   ]
  },
  {
   "cell_type": "markdown",
   "metadata": {},
   "source": [
    "The object has attributes corresponding to the results : cluster labels and states"
   ]
  },
  {
   "cell_type": "code",
   "execution_count": null,
   "metadata": {
    "collapsed": true
   },
   "outputs": [],
   "source": [
    "dfc_kmeans.states['correlation'].shape"
   ]
  },
  {
   "cell_type": "code",
   "execution_count": null,
   "metadata": {
    "collapsed": true
   },
   "outputs": [],
   "source": [
    "dfc_kmeans.labels['correlation'].shape"
   ]
  },
  {
   "cell_type": "markdown",
   "metadata": {},
   "source": [
    "We can plot the time series of the states"
   ]
  },
  {
   "cell_type": "code",
   "execution_count": null,
   "metadata": {
    "collapsed": true
   },
   "outputs": [],
   "source": [
    "cursubj = 23\n",
    "plt.plot(dfc_kmeans.labels['correlation'][cursubj])"
   ]
  },
  {
   "cell_type": "markdown",
   "metadata": {},
   "source": [
    "And let's plot the estimated centroids"
   ]
  },
  {
   "cell_type": "code",
   "execution_count": null,
   "metadata": {
    "collapsed": true
   },
   "outputs": [],
   "source": [
    "plt.figure(figsize=(10,10))\n",
    "ax = plt.subplot(2,2,1)\n",
    "plot_matrix(dfc_kmeans.states['correlation'][0,:],axes=ax,vmin=-0.8,vmax=0.8)\n",
    "\n",
    "ax = plt.subplot(2,2,2)\n",
    "plot_matrix(dfc_kmeans.states['correlation'][1,:],axes=ax,vmin=-0.8,vmax=0.8)\n",
    "\n",
    "ax = plt.subplot(2,2,3)\n",
    "plot_matrix(dfc_kmeans.states['correlation'][2,:],axes=ax,vmin=-0.8,vmax=0.8)"
   ]
  },
  {
   "cell_type": "markdown",
   "metadata": {},
   "source": [
    "Instead of plotting centroids, let's average all FC matrices that belong to a certain label. "
   ]
  },
  {
   "cell_type": "code",
   "execution_count": null,
   "metadata": {
    "collapsed": true
   },
   "outputs": [],
   "source": [
    "def labels_to_FC(FCmatrices,clusterlabels):\n",
    "    \"\"\"\n",
    "        Averages FC matrices according to clustering labels.\n",
    "        Returns an average state estimated for each subject \n",
    "        \n",
    "        Parameters\n",
    "        ----------\n",
    "        FCmatrices: {array-like}, shape = (n_subjects , n_sl , n_regions,n_regions)\n",
    "           Functional connectivity matrices obtained from n_sl sliding windows, for a group of n_subjects subjects\n",
    "        clusterlabels: {array-like}, shape = (n_subjects , n_sl)\n",
    "           Estimated labels for each FCmatrix, per subject\n",
    "        \n",
    "        Returns\n",
    "        -------\n",
    "        dfcStates : Array-like (n_states,n_subjects,n_regions,n_regions)\n",
    "           Average state estimated for each subject \n",
    "    \"\"\"\n",
    "    nstates = np.shape(np.unique(clusterlabels))[0]\n",
    "    nroi = FCmatrices.shape[2]\n",
    "    nsubj = FCmatrices.shape[0]\n",
    "\n",
    "    dfcKmeans_meanstate = np.ndarray((nstates,nsubj,nroi,nroi))\n",
    "\n",
    "    for curstate in range(nstates):\n",
    "        for s,cursubjFC in enumerate(FCmatrices):\n",
    "            labels_list = clusterlabels[s] == curstate\n",
    "            dfcKmeans_meanstate[curstate,s] = np.mean(cursubjFC[labels_list],axis=0)\n",
    "    return dfcKmeans_meanstate"
   ]
  },
  {
   "cell_type": "code",
   "execution_count": null,
   "metadata": {
    "collapsed": true
   },
   "outputs": [],
   "source": [
    "dfcKmeans_meanstate = labels_to_FC(all_FC_sl,dfc_kmeans.labels['correlation'])"
   ]
  },
  {
   "cell_type": "code",
   "execution_count": null,
   "metadata": {
    "collapsed": true
   },
   "outputs": [],
   "source": [
    "dfcKmeans_mean_acrosssubject = np.nanmean(dfcKmeans_meanstate,axis=1)"
   ]
  },
  {
   "cell_type": "markdown",
   "metadata": {},
   "source": [
    "Plot the estimated states"
   ]
  },
  {
   "cell_type": "code",
   "execution_count": null,
   "metadata": {
    "collapsed": true
   },
   "outputs": [],
   "source": [
    "plt.figure(figsize=(10,10))\n",
    "ax = plt.subplot(2,2,1)\n",
    "plot_matrix(dfcKmeans_mean_acrosssubject[0],axes=ax)\n",
    "\n",
    "ax = plt.subplot(2,2,2)\n",
    "plot_matrix(dfcKmeans_mean_acrosssubject[1],axes=ax)\n",
    "\n",
    "ax = plt.subplot(2,2,3)\n",
    "plot_matrix(dfcKmeans_mean_acrosssubject[2],axes=ax)"
   ]
  },
  {
   "cell_type": "code",
   "execution_count": null,
   "metadata": {
    "collapsed": true
   },
   "outputs": [],
   "source": [
    "plt.hist(np.ravel(dfc_kmeans.labels['correlation']))"
   ]
  }
 ],
 "metadata": {
  "kernelspec": {
   "display_name": "Python 3",
   "language": "python",
   "name": "python3"
  },
  "language_info": {
   "codemirror_mode": {
    "name": "ipython",
    "version": 3
   },
   "file_extension": ".py",
   "mimetype": "text/x-python",
   "name": "python",
   "nbconvert_exporter": "python",
   "pygments_lexer": "ipython3",
   "version": "3.6.0"
  }
 },
 "nbformat": 4,
 "nbformat_minor": 2
}
