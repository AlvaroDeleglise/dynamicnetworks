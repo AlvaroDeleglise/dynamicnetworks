{
 "cells": [
  {
   "cell_type": "markdown",
   "metadata": {},
   "source": [
    "Comparing methods for dynamic functional connectivity in brain imaging\n",
    "--\n",
    "This notebook implements the first few analysis steps required for dynamic connectivity analysis based on sliding-windows"
   ]
  },
  {
   "cell_type": "markdown",
   "metadata": {},
   "source": [
    "Step 1 -- Open time series"
   ]
  },
  {
   "cell_type": "markdown",
   "metadata": {},
   "source": [
    "Scan the directory and read time series "
   ]
  },
  {
   "cell_type": "code",
   "execution_count": 1,
   "metadata": {
    "collapsed": true
   },
   "outputs": [],
   "source": [
    "import numpy as np \n",
    "from matplotlib import pyplot as plt \n",
    "from nilearn.plotting import plot_matrix, plot_connectome\n",
    "\n",
    "%matplotlib inline"
   ]
  },
  {
   "cell_type": "code",
   "execution_count": 2,
   "metadata": {
    "collapsed": true
   },
   "outputs": [],
   "source": [
    "import os \n",
    "datapath = '/Users/nicolasfarrugia/Documents/recherche/data_mpilmbb/'\n",
    "fileslist = os.listdir(os.path.join(datapath,'10subjects')) "
   ]
  },
  {
   "cell_type": "markdown",
   "metadata": {},
   "source": [
    "Print the list of files "
   ]
  },
  {
   "cell_type": "code",
   "execution_count": 3,
   "metadata": {},
   "outputs": [
    {
     "data": {
      "text/plain": [
       "['subj_010001_ses-02_task-rest_acq-AP_run-01_M_BASC_scale064.npz',\n",
       " 'subj_010001_ses-02_task-rest_acq-AP_run-02_M_BASC_scale064.npz',\n",
       " 'subj_010001_ses-02_task-rest_acq-PA_run-01_M_BASC_scale064.npz',\n",
       " 'subj_010001_ses-02_task-rest_acq-PA_run-02_M_BASC_scale064.npz',\n",
       " 'subj_010002_ses-02_task-rest_acq-AP_run-01_M_BASC_scale064.npz',\n",
       " 'subj_010002_ses-02_task-rest_acq-AP_run-02_M_BASC_scale064.npz',\n",
       " 'subj_010002_ses-02_task-rest_acq-PA_run-01_M_BASC_scale064.npz',\n",
       " 'subj_010002_ses-02_task-rest_acq-PA_run-02_M_BASC_scale064.npz',\n",
       " 'subj_010004_ses-02_task-rest_acq-AP_run-01_M_BASC_scale064.npz',\n",
       " 'subj_010004_ses-02_task-rest_acq-AP_run-02_M_BASC_scale064.npz',\n",
       " 'subj_010004_ses-02_task-rest_acq-PA_run-01_M_BASC_scale064.npz',\n",
       " 'subj_010004_ses-02_task-rest_acq-PA_run-02_M_BASC_scale064.npz',\n",
       " 'subj_010005_ses-02_task-rest_acq-AP_run-01_M_BASC_scale064.npz',\n",
       " 'subj_010005_ses-02_task-rest_acq-AP_run-02_M_BASC_scale064.npz',\n",
       " 'subj_010005_ses-02_task-rest_acq-PA_run-01_M_BASC_scale064.npz',\n",
       " 'subj_010005_ses-02_task-rest_acq-PA_run-02_M_BASC_scale064.npz',\n",
       " 'subj_010006_ses-02_task-rest_acq-AP_run-01_M_BASC_scale064.npz',\n",
       " 'subj_010006_ses-02_task-rest_acq-AP_run-02_M_BASC_scale064.npz',\n",
       " 'subj_010006_ses-02_task-rest_acq-PA_run-01_M_BASC_scale064.npz',\n",
       " 'subj_010006_ses-02_task-rest_acq-PA_run-02_M_BASC_scale064.npz',\n",
       " 'subj_010007_ses-02_task-rest_acq-AP_run-01_M_BASC_scale064.npz',\n",
       " 'subj_010007_ses-02_task-rest_acq-AP_run-02_M_BASC_scale064.npz',\n",
       " 'subj_010007_ses-02_task-rest_acq-PA_run-01_M_BASC_scale064.npz',\n",
       " 'subj_010007_ses-02_task-rest_acq-PA_run-02_M_BASC_scale064.npz',\n",
       " 'subj_010008_ses-02_task-rest_acq-AP_run-01_M_BASC_scale064.npz',\n",
       " 'subj_010008_ses-02_task-rest_acq-AP_run-02_M_BASC_scale064.npz',\n",
       " 'subj_010008_ses-02_task-rest_acq-PA_run-01_M_BASC_scale064.npz',\n",
       " 'subj_010008_ses-02_task-rest_acq-PA_run-02_M_BASC_scale064.npz',\n",
       " 'subj_010009_ses-02_task-rest_acq-AP_run-01_M_BASC_scale064.npz',\n",
       " 'subj_010009_ses-02_task-rest_acq-AP_run-02_M_BASC_scale064.npz',\n",
       " 'subj_010009_ses-02_task-rest_acq-PA_run-01_M_BASC_scale064.npz',\n",
       " 'subj_010009_ses-02_task-rest_acq-PA_run-02_M_BASC_scale064.npz',\n",
       " 'subj_010011_ses-02_task-rest_acq-AP_run-01_M_BASC_scale064.npz',\n",
       " 'subj_010011_ses-02_task-rest_acq-AP_run-02_M_BASC_scale064.npz',\n",
       " 'subj_010011_ses-02_task-rest_acq-PA_run-01_M_BASC_scale064.npz',\n",
       " 'subj_010011_ses-02_task-rest_acq-PA_run-02_M_BASC_scale064.npz',\n",
       " 'subj_010014_ses-02_task-rest_acq-AP_run-01_M_BASC_scale064.npz',\n",
       " 'subj_010014_ses-02_task-rest_acq-AP_run-02_M_BASC_scale064.npz',\n",
       " 'subj_010014_ses-02_task-rest_acq-PA_run-01_M_BASC_scale064.npz',\n",
       " 'subj_010014_ses-02_task-rest_acq-PA_run-02_M_BASC_scale064.npz']"
      ]
     },
     "execution_count": 3,
     "metadata": {},
     "output_type": "execute_result"
    }
   ],
   "source": [
    "fileslist"
   ]
  },
  {
   "cell_type": "markdown",
   "metadata": {},
   "source": [
    "Open each file (each file has a time series and an id) and store them in lists "
   ]
  },
  {
   "cell_type": "code",
   "execution_count": 4,
   "metadata": {
    "collapsed": true
   },
   "outputs": [],
   "source": [
    "allts = []\n",
    "allid = []\n",
    "\n",
    "for curfile in fileslist:\n",
    "    allts.append(np.load(os.path.join(datapath,'10subjects',curfile))['ts'])\n",
    "    allid.append(np.load(os.path.join(datapath,'10subjects',curfile))['id'])"
   ]
  },
  {
   "cell_type": "markdown",
   "metadata": {},
   "source": [
    "Turn the list into a numpy array, and print the shape of the resulting array "
   ]
  },
  {
   "cell_type": "code",
   "execution_count": 5,
   "metadata": {},
   "outputs": [
    {
     "name": "stdout",
     "output_type": "stream",
     "text": [
      "(40, 652, 93)\n"
     ]
    }
   ],
   "source": [
    "allts = np.stack(allts)\n",
    "print(allts.shape)"
   ]
  },
  {
   "cell_type": "markdown",
   "metadata": {},
   "source": [
    "40 files, 652 volumes, 93 ROIs"
   ]
  },
  {
   "cell_type": "markdown",
   "metadata": {},
   "source": [
    "Let's print some time series, just for fun "
   ]
  },
  {
   "cell_type": "code",
   "execution_count": 15,
   "metadata": {},
   "outputs": [
    {
     "data": {
      "text/plain": [
       "[<matplotlib.lines.Line2D at 0x119d25320>,\n",
       " <matplotlib.lines.Line2D at 0x119d25470>,\n",
       " <matplotlib.lines.Line2D at 0x119d255c0>,\n",
       " <matplotlib.lines.Line2D at 0x119d25710>]"
      ]
     },
     "execution_count": 15,
     "metadata": {},
     "output_type": "execute_result"
    },
    {
     "data": {
      "image/png": "[encoded data removed]",
      "text/plain": [
       "<matplotlib.figure.Figure at 0x119fd8a58>"
      ]
     },
     "metadata": {},
     "output_type": "display_data"
    }
   ],
   "source": [
    "subject = 12\n",
    "plt.plot(allts[subject,:,3:7]) ## rois 3 to 7 "
   ]
  },
  {
   "cell_type": "markdown",
   "metadata": {},
   "source": [
    "Step 2 - Sliding windows"
   ]
  },
  {
   "cell_type": "markdown",
   "metadata": {},
   "source": [
    "The function dfc_slid_window implements the following :\n",
    "- cutting the data in sliding windows of length ws, sliding by steps of ss\n",
    "- Applies a Tucker window for tapering (to smooth edge effects) \n",
    "\n",
    "It expect an input in the form [subjects,volumes,regions], so if you want to calculate sliding windows on a single subjects, reshape it to [1,volumes,regions] using np.reshape\n",
    "\n",
    "Let's check its syntax"
   ]
  },
  {
   "cell_type": "code",
   "execution_count": 16,
   "metadata": {
    "collapsed": true
   },
   "outputs": [],
   "source": [
    "from dfc import dfc_slid_window\n",
    "dfc_slid_window?"
   ]
  },
  {
   "cell_type": "markdown",
   "metadata": {},
   "source": [
    "Calculate sliding windows "
   ]
  },
  {
   "cell_type": "code",
   "execution_count": 17,
   "metadata": {
    "collapsed": true
   },
   "outputs": [],
   "source": [
    "all_sl,_ = dfc_slid_window(allts,100)"
   ]
  },
  {
   "cell_type": "code",
   "execution_count": 19,
   "metadata": {},
   "outputs": [
    {
     "name": "stdout",
     "output_type": "stream",
     "text": [
      "(40, 552, 100, 93)\n"
     ]
    }
   ],
   "source": [
    "print(all_sl.shape)"
   ]
  },
  {
   "cell_type": "markdown",
   "metadata": {},
   "source": [
    "this corresponds to (subjects, time , window size, regions )"
   ]
  },
  {
   "cell_type": "markdown",
   "metadata": {},
   "source": [
    "Computing FC matrices for all windows"
   ]
  },
  {
   "cell_type": "code",
   "execution_count": null,
   "metadata": {
    "collapsed": true
   },
   "outputs": [],
   "source": [
    "from nilearn.connectome import ConnectivityMeasure\n",
    "estimator = ConnectivityMeasure(kind='covariance',vectorize=False,discard_diagonal=True)\n",
    "\n",
    "all_FC_sl = []\n",
    "\n",
    "for sl in all_sl:\n",
    "    all_FC_sl.append(estimator.fit_transform(sl))\n",
    "    \n",
    "    \n",
    "all_FC_sl = np.stack(all_FC_sl)"
   ]
  },
  {
   "cell_type": "code",
   "execution_count": null,
   "metadata": {},
   "outputs": [],
   "source": [
    "all_FC_sl.shape"
   ]
  },
  {
   "cell_type": "code",
   "execution_count": null,
   "metadata": {},
   "outputs": [],
   "source": [
    "plot_matrix(all_FC_sl[0,13])"
   ]
  },
  {
   "cell_type": "markdown",
   "metadata": {},
   "source": [
    "Calculate similarity across the temporal dimension "
   ]
  },
  {
   "cell_type": "markdown",
   "metadata": {},
   "source": [
    "recomputing connectivity and vectorizing to make it easier for calculating distance "
   ]
  },
  {
   "cell_type": "code",
   "execution_count": null,
   "metadata": {
    "collapsed": true
   },
   "outputs": [],
   "source": [
    "from nilearn.connectome import ConnectivityMeasure\n",
    "estimator = ConnectivityMeasure(kind='covariance',vectorize=True,discard_diagonal=True)\n",
    "\n",
    "all_FC_sl = []\n",
    "\n",
    "for sl in all_sl:\n",
    "    all_FC_sl.append(estimator.fit_transform(sl))\n",
    "    \n",
    "    \n",
    "all_FC_sl = np.stack(all_FC_sl)"
   ]
  },
  {
   "cell_type": "markdown",
   "metadata": {},
   "source": [
    "go through all subjects"
   ]
  },
  {
   "cell_type": "code",
   "execution_count": null,
   "metadata": {},
   "outputs": [],
   "source": [
    "all_FC_sl.shape"
   ]
  },
  {
   "cell_type": "code",
   "execution_count": null,
   "metadata": {},
   "outputs": [],
   "source": [
    "from sklearn.metrics.pairwise import cosine_similarity\n",
    "\n",
    "all_cosine_sim = []\n",
    "for i,slFC in enumerate(all_FC_sl): # subjects\n",
    "    #windows\n",
    "    cur_sim = cosine_similarity(slFC)\n",
    "    all_cosine_sim.append(cur_sim)\n",
    "    plt.imshow(cur_sim,cmap=plt.cm.hot)\n",
    "    plt.title(allid[i])\n",
    "    plt.colorbar()\n",
    "    plt.show()\n",
    "    \n",
    "all_cosine_sim = np.stack(all_cosine_sim)"
   ]
  },
  {
   "cell_type": "markdown",
   "metadata": {},
   "source": [
    "Save the results "
   ]
  },
  {
   "cell_type": "code",
   "execution_count": null,
   "metadata": {
    "collapsed": true
   },
   "outputs": [],
   "source": [
    "#np.savez_compressed(os.path.join(datapath,'FC_variability.npz'),all_cosine_sim=all_cosine_sim,ids=allid)"
   ]
  },
  {
   "cell_type": "markdown",
   "metadata": {},
   "source": [
    "Redo it using precision"
   ]
  },
  {
   "cell_type": "code",
   "execution_count": null,
   "metadata": {
    "collapsed": true
   },
   "outputs": [],
   "source": [
    "from nilearn.connectome import ConnectivityMeasure\n",
    "estimator = ConnectivityMeasure(kind='precision',vectorize=True,discard_diagonal=True)\n",
    "\n",
    "all_FC_sl = []\n",
    "\n",
    "for sl in all_sl:\n",
    "    all_FC_sl.append(estimator.fit_transform(sl))\n",
    "    \n",
    "all_FC_sl = np.stack(all_FC_sl)"
   ]
  },
  {
   "cell_type": "code",
   "execution_count": null,
   "metadata": {},
   "outputs": [],
   "source": [
    "all_cosine_sim = []\n",
    "for i,slFC in enumerate(all_FC_sl): # subjects\n",
    "    #windows\n",
    "    cur_sim = cosine_similarity(slFC)\n",
    "    all_cosine_sim.append(cur_sim)\n",
    "    plt.imshow(cur_sim,cmap=plt.cm.hot)\n",
    "    plt.title(allid[i])\n",
    "    plt.colorbar()\n",
    "    plt.show()\n",
    "    \n",
    "all_cosine_sim = np.stack(all_cosine_sim)"
   ]
  },
  {
   "cell_type": "code",
   "execution_count": null,
   "metadata": {
    "collapsed": true
   },
   "outputs": [],
   "source": [
    "np.savez_compressed(os.path.join(datapath,'FC_variability_precision.npz'),all_cosine_sim=all_cosine_sim,ids=allid)"
   ]
  },
  {
   "cell_type": "code",
   "execution_count": null,
   "metadata": {
    "collapsed": true
   },
   "outputs": [],
   "source": [
    "from nilearn.connectome import ConnectivityMeasure\n",
    "estimator = ConnectivityMeasure(kind='tangent',vectorize=True,discard_diagonal=True)\n",
    "\n",
    "all_FC_sl = []\n",
    "\n",
    "for sl in all_sl:\n",
    "    all_FC_sl.append(estimator.fit_transform(sl))\n",
    "    \n",
    "all_FC_sl = np.stack(all_FC_sl)"
   ]
  },
  {
   "cell_type": "code",
   "execution_count": null,
   "metadata": {},
   "outputs": [],
   "source": [
    "all_cosine_sim = []\n",
    "for i,slFC in enumerate(all_FC_sl): # subjects\n",
    "    #windows\n",
    "    cur_sim = cosine_similarity(slFC)\n",
    "    all_cosine_sim.append(cur_sim)\n",
    "    plt.imshow(cur_sim,cmap=plt.cm.hot)\n",
    "    plt.title(allid[i])\n",
    "    plt.colorbar()\n",
    "    plt.show()\n",
    "    \n",
    "all_cosine_sim = np.stack(all_cosine_sim)"
   ]
  },
  {
   "cell_type": "code",
   "execution_count": null,
   "metadata": {
    "collapsed": true
   },
   "outputs": [],
   "source": [
    "np.savez_compressed(os.path.join(datapath,'FC_variability_tangent.npz'),all_cosine_sim=all_cosine_sim,ids=allid)"
   ]
  },
  {
   "cell_type": "code",
   "execution_count": null,
   "metadata": {
    "collapsed": true
   },
   "outputs": [],
   "source": []
  }
 ],
 "metadata": {
  "kernelspec": {
   "display_name": "Python 3",
   "language": "python",
   "name": "python3"
  },
  "language_info": {
   "codemirror_mode": {
    "name": "ipython",
    "version": 3
   },
   "file_extension": ".py",
   "mimetype": "text/x-python",
   "name": "python",
   "nbconvert_exporter": "python",
   "pygments_lexer": "ipython3",
   "version": "3.6.0"
  }
 },
 "nbformat": 4,
 "nbformat_minor": 2
}
